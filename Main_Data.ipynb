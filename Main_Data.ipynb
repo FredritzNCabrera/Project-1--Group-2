{
 "cells": [
  {
   "cell_type": "code",
   "execution_count": 1,
   "metadata": {},
   "outputs": [],
   "source": [
    "import pandas as pd"
   ]
  },
  {
   "cell_type": "code",
   "execution_count": 4,
   "metadata": {},
   "outputs": [
    {
     "name": "stdout",
     "output_type": "stream",
     "text": [
      "                        country  year     sex         age  population  \\\n",
      "27820       Antigua and Barbuda  2020    male  5-14 years       92664   \n",
      "27821                 Argentina  2020    male  5-14 years    45376763   \n",
      "27822                   Armenia  2020    male  5-14 years     2805608   \n",
      "27823                 Australia  2020    male  5-14 years    25655289   \n",
      "27824                   Austria  2020    male  5-14 years     8916864   \n",
      "...                         ...   ...     ...         ...         ...   \n",
      "31505                   Ukraine  2020  female   75+ years    44132049   \n",
      "31506            United Kingdom  2020  female   75+ years    67081000   \n",
      "31507  United States of America  2020  female   75+ years   331501080   \n",
      "31508                   Uruguay  2020  female   75+ years     3429086   \n",
      "31509                Uzbekistan  2020  female   75+ years    34232050   \n",
      "\n",
      "       suicides/100k pop  HDI for year  gdp_per_capita ($)  \n",
      "27820           0.000000      0.920514        13992.744480  \n",
      "27821           0.000000      0.832784         8579.017773  \n",
      "27822           0.000000      0.756001         4266.018074  \n",
      "27823           0.058467      0.960859        51692.842750  \n",
      "27824           0.022429      0.921971        48586.801320  \n",
      "...                  ...           ...                 ...  \n",
      "31505           0.000000      0.776725         3724.938437  \n",
      "31506           0.000000      0.916840        41059.168810  \n",
      "31507           0.157164      0.917541        63593.443620  \n",
      "31508           0.000000      0.822487        15438.411670  \n",
      "31509           0.000000      0.696935         1750.697113  \n",
      "\n",
      "[984 rows x 8 columns]\n"
     ]
    }
   ],
   "source": [
    "suicide_rates_df = pd.read_csv('master.csv')\n",
    "suicide_rates_df = suicide_rates_df.drop(['suicides_no', 'country-year',' gdp_for_year ($) ','generation'], axis=1)\n",
    "suicide_rates_df = suicide_rates_df[suicide_rates_df['year'] == 2020]\n",
    "print(suicide_rates_df)"
   ]
  },
  {
   "cell_type": "code",
   "execution_count": null,
   "metadata": {},
   "outputs": [],
   "source": []
  },
  {
   "cell_type": "code",
   "execution_count": null,
   "metadata": {},
   "outputs": [],
   "source": []
  }
 ],
 "metadata": {
  "kernelspec": {
   "display_name": "Python 3 (ipykernel)",
   "language": "python",
   "name": "python3"
  },
  "language_info": {
   "codemirror_mode": {
    "name": "ipython",
    "version": 3
   },
   "file_extension": ".py",
   "mimetype": "text/x-python",
   "name": "python",
   "nbconvert_exporter": "python",
   "pygments_lexer": "ipython3",
   "version": "3.10.10"
  }
 },
 "nbformat": 4,
 "nbformat_minor": 2
}
